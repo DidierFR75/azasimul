{
 "cells": [
  {
   "cell_type": "code",
   "execution_count": null,
   "metadata": {},
   "outputs": [],
   "source": [
    "from openpyxl import Workbook, load_workbook\n",
    "from openpyxl.writer.excel import save_virtual_workbook\n",
    "import os\n",
    "import pandas as pd"
   ]
  },
  {
   "cell_type": "code",
   "execution_count": 142,
   "metadata": {},
   "outputs": [],
   "source": [
    "class InputAdaptater:\n",
    "\n",
    "    BASE_ELEMENTS_ROW = 17 # Location of base's elements\n",
    "    UNIT_ROW = 18 # Location of units\n",
    "    CURVE = 19 # Location of Curve's interpolations\n",
    "    METADATA_COL = \"A\"\n",
    "    POINT_N_COL = \"B\"\n",
    "    DATE_COL = \"D\"\n",
    "\n",
    "    def __init__(self, input=\"/input/model.xlsx\") -> None:\n",
    "        self.wb = load_workbook(os.getcwd()+ input, data_only=True)\n",
    "        self.json = {}\n",
    "\n",
    "    def _getPointsWithDates(self, sheet_name):\n",
    "        \"\"\"\n",
    "            Return dict (row_number, point_no, date) of all points and associate's date\n",
    "        \"\"\"\n",
    "        ws = self.wb[sheet_name]\n",
    "        return [{\n",
    "            \"row\": point.row, \n",
    "            \"point_n\": point.value, \n",
    "            \"date\": ws[self.DATE_COL+str(point.row)].value\n",
    "            } for point in ws[self.POINT_N_COL] if point.value is not None and type(point.value) is int]\n",
    "\n",
    "    def _getSpecifications(self, sheet_name):\n",
    "        \"\"\"\n",
    "        Return dict (column_id, specification, unit, interpolation) at BASE_ELEMENTS_ROW for a given sheetname\n",
    "        Ignore the firsts 2 elements because they always not belong to specifications\n",
    "        \"\"\"\n",
    "        ws = self.wb[sheet_name]\n",
    "        return [{\n",
    "            \"column\": be.column, \n",
    "            \"specification_name\": be.value, \n",
    "            \"unit\": ws.cell(row=self.UNIT_ROW, column=be.column).value, \n",
    "            \"interpolation\": ws.cell(row=self.CURVE, column=be.column).value\n",
    "        } for be in ws[self.BASE_ELEMENTS_ROW] if be.value is not None][2:]\n",
    "\n",
    "    def _getValuesBySpecificiation(self, specification, dates, sheet_name):\n",
    "        ws = self.wb[sheet_name]\n",
    "\n",
    "        return [(date[\"row\"], ws.cell(row=date[\"row\"], column=specification[\"column\"]).value) for date in dates if ws.cell(row=date[\"row\"], column=specification[\"column\"]).value is not None]\n",
    "\n",
    "    def _getSpectificationsWithInterpolations(self, sheet_name):\n",
    "        \"\"\"\n",
    "            return a dict with specifications and interpolations\n",
    "        \"\"\"\n",
    "        result = []\n",
    "        dates = self._getPointsWithDates(sheet_name)\n",
    "        \n",
    "        for specification in self._getSpecifications(sheet_name):\n",
    "            return specification[\"specification_name\"], self._getValuesBySpecificiation(specification, dates, sheet_name)\n",
    "            #for date in dates:\n",
    "            #    if specifiction[\"unit\"] == \"CONST\":\n",
    "            #        date[\"value\"] = \n",
    "\n",
    "    def _getBaseElementMetaData(self, sheet_name):\n",
    "        \"\"\"\n",
    "        Return array of tuples (row_id, metadata_name, metadata_value) for a given sheetname\n",
    "        \"\"\"\n",
    "        ws = self.wb.get_sheet_by_name(sheet_name)\n",
    "        return [(cell.row, cell.value, ws['B'][cell.row].value) for cell in ws[self.METADATA_COL] if (cell.value is not None and cell.row < self.BASE_ELEMENTS_ROW)]\n",
    "\n",
    "    def _getBaseElementsSheetNames(self):\n",
    "        pass\n",
    "\n",
    "    def _getRawDataStorage(self):\n",
    "        \"\"\"\n",
    "            Return JSON storage of the input\n",
    "        \"\"\"\n",
    "        return self._getPointsWithDates(self.wb.sheetnames[1])\n"
   ]
  },
  {
   "cell_type": "code",
   "execution_count": 143,
   "metadata": {},
   "outputs": [
    {
     "data": {
      "text/plain": [
       "[{'row': 22, 'point_n': 0, 'date': datetime.datetime(2022, 7, 1, 0, 0)},\n",
       " {'row': 23, 'point_n': 1, 'date': datetime.datetime(2023, 7, 1, 0, 0)},\n",
       " {'row': 24, 'point_n': 2, 'date': datetime.datetime(2024, 7, 1, 0, 0)},\n",
       " {'row': 25, 'point_n': 3, 'date': datetime.datetime(2025, 7, 1, 0, 0)},\n",
       " {'row': 26, 'point_n': 4, 'date': datetime.datetime(2026, 7, 1, 0, 0)},\n",
       " {'row': 27, 'point_n': 5, 'date': datetime.datetime(2027, 7, 1, 0, 0)},\n",
       " {'row': 28, 'point_n': 6, 'date': datetime.datetime(2028, 7, 1, 0, 0)},\n",
       " {'row': 29, 'point_n': 7, 'date': datetime.datetime(2029, 7, 1, 0, 0)},\n",
       " {'row': 30, 'point_n': 8, 'date': datetime.datetime(2030, 7, 1, 0, 0)},\n",
       " {'row': 31, 'point_n': 9, 'date': datetime.datetime(2031, 7, 1, 0, 0)},\n",
       " {'row': 32, 'point_n': 10, 'date': datetime.datetime(2032, 7, 1, 0, 0)},\n",
       " {'row': 33, 'point_n': 11, 'date': datetime.datetime(2033, 7, 1, 0, 0)},\n",
       " {'row': 34, 'point_n': 12, 'date': datetime.datetime(2034, 7, 1, 0, 0)},\n",
       " {'row': 35, 'point_n': 13, 'date': datetime.datetime(2035, 7, 1, 0, 0)},\n",
       " {'row': 36, 'point_n': 14, 'date': datetime.datetime(2036, 7, 1, 0, 0)},\n",
       " {'row': 37, 'point_n': 15, 'date': datetime.datetime(2037, 7, 1, 0, 0)},\n",
       " {'row': 38, 'point_n': 16, 'date': datetime.datetime(2038, 7, 1, 0, 0)},\n",
       " {'row': 39, 'point_n': 17, 'date': datetime.datetime(2039, 7, 1, 0, 0)},\n",
       " {'row': 40, 'point_n': 18, 'date': datetime.datetime(2040, 7, 1, 0, 0)},\n",
       " {'row': 41, 'point_n': 19, 'date': datetime.datetime(2041, 7, 1, 0, 0)},\n",
       " {'row': 42, 'point_n': 20, 'date': datetime.datetime(2042, 7, 1, 0, 0)},\n",
       " {'row': 43, 'point_n': 21, 'date': datetime.datetime(2043, 7, 1, 0, 0)},\n",
       " {'row': 44, 'point_n': 22, 'date': datetime.datetime(2044, 7, 1, 0, 0)},\n",
       " {'row': 45, 'point_n': 23, 'date': datetime.datetime(2045, 7, 1, 0, 0)},\n",
       " {'row': 46, 'point_n': 24, 'date': datetime.datetime(2046, 7, 1, 0, 0)},\n",
       " {'row': 47, 'point_n': 25, 'date': datetime.datetime(2047, 7, 1, 0, 0)},\n",
       " {'row': 48, 'point_n': 26, 'date': datetime.datetime(2048, 7, 1, 0, 0)},\n",
       " {'row': 49, 'point_n': 27, 'date': datetime.datetime(2049, 7, 1, 0, 0)},\n",
       " {'row': 50, 'point_n': 28, 'date': datetime.datetime(2050, 7, 1, 0, 0)},\n",
       " {'row': 51, 'point_n': 29, 'date': datetime.datetime(2051, 7, 1, 0, 0)},\n",
       " {'row': 52, 'point_n': 30, 'date': datetime.datetime(2052, 7, 2, 0, 0)}]"
      ]
     },
     "execution_count": 143,
     "metadata": {},
     "output_type": "execute_result"
    }
   ],
   "source": [
    "ia = InputAdaptater()\n",
    "ia._getRawDataStorage()"
   ]
  },
  {
   "cell_type": "code",
   "execution_count": null,
   "metadata": {},
   "outputs": [],
   "source": [
    "import math\n",
    "import numpy as np\n",
    "# Créer un array de count(_getDates) elements à 0\n",
    "np.linspace(0,10,20)\n",
    "# map cette array avec sa fonction d'interpolation"
   ]
  },
  {
   "cell_type": "code",
   "execution_count": null,
   "metadata": {},
   "outputs": [],
   "source": []
  }
 ],
 "metadata": {
  "kernelspec": {
   "display_name": "Python 3.7.11 ('base')",
   "language": "python",
   "name": "python3"
  },
  "language_info": {
   "codemirror_mode": {
    "name": "ipython",
    "version": 3
   },
   "file_extension": ".py",
   "mimetype": "text/x-python",
   "name": "python",
   "nbconvert_exporter": "python",
   "pygments_lexer": "ipython3",
   "version": "3.7.11"
  },
  "orig_nbformat": 4,
  "vscode": {
   "interpreter": {
    "hash": "40d3a090f54c6569ab1632332b64b2c03c39dcf918b08424e98f38b5ae0af88f"
   }
  }
 },
 "nbformat": 4,
 "nbformat_minor": 2
}
